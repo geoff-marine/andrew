{
 "cells": [
  {
   "cell_type": "markdown",
   "metadata": {},
   "source": [
    "<img align=\"left\" style=\"padding-right:10px;\" width=\"250\" src=\"Marine_logo.jpg\"></br><h2><center>Benthic Rearrange Species Data</center></h2>"
   ]
  },
  {
   "cell_type": "markdown",
   "metadata": {},
   "source": [
    "You will need the packages in the following cell installed if you wish to run this notebook.\n",
    "\n",
    "Please note that you need only run the install once and skip this step on subsequent runs on the same machine."
   ]
  },
  {
   "cell_type": "code",
   "execution_count": null,
   "metadata": {},
   "outputs": [],
   "source": [
    "install.packages('readr', repos='http://cran.us.r-project.org')\n",
    "install.packages('xlsx', repos='http://cran.us.r-project.org')\n",
    "install.packages('gdata', repos='http://cran.us.r-project.org')\n",
    "library(openxlsx)\n",
    "install.packages('openxlsx', repos='http://cran.us.r-project.org')"
   ]
  },
  {
   "cell_type": "markdown",
   "metadata": {},
   "source": [
    "The following cell calls in the installed packages necessary to complete this notebook."
   ]
  },
  {
   "cell_type": "code",
   "execution_count": null,
   "metadata": {},
   "outputs": [],
   "source": [
    "library(dplyr)\n",
    "library(tidyr)\n",
    "#library(xlsx)\n",
    "library(openxlsx)\n",
    "require(gdata)"
   ]
  },
  {
   "cell_type": "markdown",
   "metadata": {},
   "source": [
    "Change the names of the **input** and **output** files as necessary.\n",
    "\n",
    "You will also need to change the starting and ending column details as they appear in your raw data file."
   ]
  },
  {
   "cell_type": "code",
   "execution_count": null,
   "metadata": {},
   "outputs": [],
   "source": [
    "Inputfile <- \"WFD2016%20Species%20list%20RAWtewmp.csv\"\n",
    "Outputfile <- \"filtered.xlsx\"\n",
    "sheetNumber <- 1\n",
    "headerdecision <- TRUE\n",
    "startingColumn <- 'MIBE.16.01'\n",
    "endingColumn <- 'MIBE.16.462'"
   ]
  },
  {
   "cell_type": "markdown",
   "metadata": {},
   "source": [
    "This script replaces any data reported as *'p'* with 999 so the data can be loaded correctly in to the database."
   ]
  },
  {
   "cell_type": "code",
   "execution_count": null,
   "metadata": {},
   "outputs": [],
   "source": [
    "workdataframe = read.xls(Inputfile, sheet = sheetNumber, header = headerdecision)\n",
    "gathered_sample <- workdataframe %>% gather(Samp, Count, startingColumn:endingColumn)\n",
    "#subsetted_sample <- subset(gathered_sample, samp = \"MIBE.16\")\n",
    "filtered_sample <- filter(gathered_sample, Count > 0)\n",
    "filtered_sample[ filtered_sample == 'P' ] <- 999\n",
    "filtered_sample$WoRMS.AphiaID <- as.numeric(as.character(filtered_sample$WoRMS.AphiaID))\n",
    "filtered_sample$Count <- as.numeric(as.character(filtered_sample$Count))\n",
    "write.xlsx(filtered_sample, Outputfile, sheetName = sheetNumber,col.names = TRUE, row.names = TRUE, append = FALSE)\n",
    "print(\"Script Complete\")"
   ]
  },
  {
   "cell_type": "code",
   "execution_count": null,
   "metadata": {},
   "outputs": [],
   "source": []
  }
 ],
 "metadata": {
  "kernelspec": {
   "display_name": "R",
   "language": "R",
   "name": "ir"
  },
  "language_info": {
   "codemirror_mode": "r",
   "file_extension": ".r",
   "mimetype": "text/x-r-source",
   "name": "R",
   "pygments_lexer": "r",
   "version": "3.5.1"
  }
 },
 "nbformat": 4,
 "nbformat_minor": 2
}
