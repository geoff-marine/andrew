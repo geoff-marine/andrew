{
 "cells": [
  {
   "cell_type": "markdown",
   "metadata": {},
   "source": [
    "<!--QC_INFORMATION-->\n",
    "<img align=\"left\" style=\"padding-right:10px;\" width=\"250\" src=\"img/Marine_logo.jpg\">\n",
    "<h3><center>Benthic - Create Database</center></h3>"
   ]
  },
  {
   "cell_type": "markdown",
   "metadata": {},
   "source": [
    "# Jupyter Notebook for Database Creation\n",
    "\n",
    "- Database server location: MIAGS02\n",
    "- Security: Windows authentication - access to server granted to user by DB admin."
   ]
  },
  {
   "cell_type": "markdown",
   "metadata": {},
   "source": [
    "## Set-Up and Creation Execution\n",
    "- Relevant library imported - in this case it's the SQL server ODBC module for Python.\n",
    "- Connection is established using the ODBC library, with the server, database, driver and port explictely declared.\n",
    "- Security is brought to you by Windows Authentication, so no username nor password are explicitely declared (permissions set at Server admin level).\n",
    "- Autocommit is switched on so actions are saved immediately.\n",
    "- DB Creation statement can then be declared & executed."
   ]
  },
  {
   "cell_type": "markdown",
   "metadata": {},
   "source": [
    "#### Set Database connection string\n",
    "- Set the name of the server, a database reference (\"master\") for creation, the driver (usually SQL Server) and the port (defaul is 1433).\n",
    "- This uses your Windows log-in to authenticate and connect to the server."
   ]
  },
  {
   "cell_type": "code",
   "execution_count": 1,
   "metadata": {},
   "outputs": [
    {
     "data": {
      "text/plain": [
       "<pyodbc.Cursor at 0x20815b5d738>"
      ]
     },
     "execution_count": 1,
     "metadata": {},
     "output_type": "execute_result"
    }
   ],
   "source": [
    "import pyodbc\n",
    "\n",
    "server = r'miags02.marine.ie'\n",
    "# set to local for demostration purposes, actually on MIAGS02(10.11.1.83)\n",
    "database = 'Master'\n",
    "# 'database name' - set to Master for default implementation\n",
    "driver = '{SQL Server}'\n",
    "# Driver to connect to DB\n",
    "port = '1433'\n",
    "# Default TCP: 1433.\n",
    "\n",
    "# for windows authentication, use 'Trusted_Connection=yes'\n",
    "conn = pyodbc.connect('DRIVER=' + driver + ';PORT=port;SERVER=' + server +\n",
    "                      ';PORT=1443;DATABASE=' + database\n",
    "                      + ';Trusted_Connection=yes;')\n",
    "# instantiates a python db connection object"
   ]
  },
  {
   "cell_type": "markdown",
   "metadata": {},
   "source": [
    "#### SQL code entered\n",
    "- Here you can enter whatever SQL code you want and it will be committed to the database - in this case, a Create statement is used to create a database."
   ]
  },
  {
   "cell_type": "code",
   "execution_count": null,
   "metadata": {},
   "outputs": [],
   "source": [
    "conn.autocommit = True\n",
    "cur = conn.cursor()\n",
    "# create DB statement\n",
    "createStmt = \"CREATE DATABASE Benthic\"\n",
    "\n",
    "cur.execute(createStmt)\n",
    "# Executes Query\n",
    "# Cursor should return memory location - if not error"
   ]
  },
  {
   "cell_type": "markdown",
   "metadata": {},
   "source": [
    "If the code runs correctly, a memory position should be declared and you should be able to view the database in your SQL client app.\n",
    "e.g. <pyodbc.Cursor at 0x20815b5d738>\n",
    "- If there is an error, don't panic, it's likely a connection issue - try again.\n",
    "- If errors persist, consult a member of Data Management."
   ]
  },
  {
   "cell_type": "markdown",
   "metadata": {},
   "source": [
    "[Index](Index.ipynb) | [Create Tables](BenthicDatabase-CreateTables.ipynb) | [Update Data](BenthicDatabase-UpdateData.ipynb)"
   ]
  }
 ],
 "metadata": {
  "kernelspec": {
   "display_name": "Python 3",
   "language": "python",
   "name": "python3"
  },
  "language_info": {
   "codemirror_mode": {
    "name": "ipython",
    "version": 3
   },
   "file_extension": ".py",
   "mimetype": "text/x-python",
   "name": "python",
   "nbconvert_exporter": "python",
   "pygments_lexer": "ipython3",
   "version": "3.6.5"
  }
 },
 "nbformat": 4,
 "nbformat_minor": 2
}
