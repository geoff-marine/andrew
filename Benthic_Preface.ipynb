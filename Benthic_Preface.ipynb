{
 "cells": [
  {
   "cell_type": "markdown",
   "metadata": {},
   "source": [
    "<!--QC_INFORMATION-->\n",
    "<img align=\"left\" style=\"padding-right:10px;\" width=\"250\" src=\"Marine_logo.jpg\"></br>\n",
    "<h3><center>Benthic Database Process</center></h3>"
   ]
  },
  {
   "cell_type": "markdown",
   "metadata": {},
   "source": [
    "<!--NAVIGATION-->\n",
    "<center>| [Contents](Index.ipynb) |</center>"
   ]
  },
  {
   "cell_type": "markdown",
   "metadata": {},
   "source": [
    "# Preface"
   ]
  },
  {
   "cell_type": "markdown",
   "metadata": {},
   "source": [
    "## Who are these notebooks for?\n",
    "\n",
    "The primary purpose of this document is to capture the process for the creation of SQL databases for Benthic activities. It is an internal document intended to provide a guide to those involved in Benthic data management, quality control and planning activities within the Marine Institute. It is also presented as a working document, and while current data processing and quality procedures are captured, areas of possible improvement are also highlighted."
   ]
  },
  {
   "cell_type": "markdown",
   "metadata": {},
   "source": [
    "## How to make changes to this workbook\n",
    "\n",
    "Consult with a member of the data management team."
   ]
  },
  {
   "cell_type": "markdown",
   "metadata": {},
   "source": [
    "## Process to follow:\n",
    "\n",
    "    1. Import relevant libraries & establish connection to database.\n",
    "\n",
    "    2. Execute 'Create database' function.\n",
    "\n",
    "    3. Execute 'Create table' functions, accounting for data types.\n",
    "\n",
    "    4. Execute 'Insert' functions from sources into tables using PANDAS."
   ]
  },
  {
   "cell_type": "markdown",
   "metadata": {},
   "source": [
    "<!--NAVIGATION-->\n",
    "<center>| [Contents](Index.ipynb) |</center>"
   ]
  }
 ],
 "metadata": {
  "anaconda-cloud": {},
  "kernelspec": {
   "display_name": "Python 3",
   "language": "python",
   "name": "python3"
  },
  "language_info": {
   "codemirror_mode": {
    "name": "ipython",
    "version": 3
   },
   "file_extension": ".py",
   "mimetype": "text/x-python",
   "name": "python",
   "nbconvert_exporter": "python",
   "pygments_lexer": "ipython3",
   "version": "3.6.5"
  }
 },
 "nbformat": 4,
 "nbformat_minor": 1
}
