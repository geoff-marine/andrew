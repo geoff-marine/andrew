{
 "cells": [
  {
   "cell_type": "markdown",
   "metadata": {},
   "source": [
    "<!--QC_INFORMATION-->\n",
    "<img align=\"left\" style=\"padding-right:10px;\" width=\"250\" src=\"Marine_logo.jpg\">\n",
    "<h3><center>Benthic Tables</center></h3>"
   ]
  },
  {
   "cell_type": "markdown",
   "metadata": {},
   "source": [
    "#  Jupyter Notebook for Table Creation\n",
    "\n",
    "- Create the individual tables as set-out in the database schema.\n",
    "- Remember that the data type is highly important and must be included in this section.\n",
    "- The same code snippet can be used for any table creation once a database is created and referenced.\n",
    "- Note: SQL has protected words which cannot be used for headings, these include \"select\", \"order\" and \"view\" among others. You will need to adjust the naming of such fields prior to scripting."
   ]
  },
  {
   "cell_type": "markdown",
   "metadata": {},
   "source": [
    "## Notes\n",
    "- All you need are the details of the table name, field names & respective data types (whether it is a number or date or string of characters).\n",
    "- Various libraries including an ODBC driver and the computational focused Pandas are brought in to facilitate the database connection.\n",
    "- Both Primary Key and Foreign Key connections can be set here using traditional SQL snippets - these snippets can be inserted wherever you see 3 inverted commas (\"\"\").\n",
    "- However, they can also be set at a later date and just table can be created."
   ]
  },
  {
   "cell_type": "markdown",
   "metadata": {},
   "source": [
    "#### Establish connection to database\n",
    "- Enter in server & database details here to connect to DB using your Windows log-in for authentication."
   ]
  },
  {
   "cell_type": "code",
   "execution_count": 1,
   "metadata": {},
   "outputs": [
    {
     "data": {
      "text/plain": [
       "<pyodbc.Cursor at 0x290cb311648>"
      ]
     },
     "execution_count": 1,
     "metadata": {},
     "output_type": "execute_result"
    }
   ],
   "source": [
    "import pyodbc\n",
    "import pandas as pd\n",
    "\n",
    "server = r'miags02.marine.ie'\n",
    "# set to local for demostration purposes, actually on MIAGS02(10.11.1.83)\n",
    "database = 'Benthic'\n",
    "driver = '{SQL Server}'\n",
    "port = '1433'\n",
    "\n",
    "# for windows authentication, use 'Trusted_Connection=yes'\n",
    "conn = pyodbc.connect('DRIVER=' + driver + ';PORT=port;SERVER=' + server +\n",
    "                      ';PORT=1443;DATABASE=' + database\n",
    "                      + ';Trusted_Connection=yes;')\n",
    "# instantiates a python db connection object\n",
    "\n",
    "conn.autocommit = True\n",
    "cur = conn.cursor()\n",
    "\n",
    "# details of the table name, field names & respective data types\n",
    "attributeTableStmt = \"\"\"\n",
    "USE Benthic CREATE TABLE attributes (\n",
    "sample_id nVARCHAR(15) NOT NULL PRIMARY KEY,\n",
    "dataRequirements nVARCHAR(20),\n",
    "easting Decimal(38,8),\n",
    "northing Decimal(38,8),\n",
    "referenceSystem nVARCHAR(200),\n",
    "createGeometry geography,\n",
    "depth Decimal (38,8),\n",
    "unit_of_depth nVarchar(20),\n",
    "waterbody_code nVarchar(20),\n",
    "company nVarchar(200),\n",
    "latitude Decimal (38,8),\n",
    "longitude Decimal (38,8),\n",
    "date datetime,\n",
    "fieldDescription nVarchar(254),\n",
    "gearCode nVARCHAR(20),\n",
    "eUNISCode nVARCHAR(20)\n",
    ");\"\"\"\n",
    "\n",
    "# Executes Query\n",
    "cur.execute(attributeTableStmt)\n",
    "\n",
    "psaTableStmt = \"\"\"\n",
    "USE Benthic CREATE TABLE psa ( \n",
    "sample_id nVarchar(15) NOT NULL PRIMARY KEY,\n",
    "Medium_Gravel_greater_8mm decimal(5,5),\n",
    "Fine_Gravel_4_to_8mm decimal(5,5),\n",
    "Very_fine_Gravel_2_to_4mm decimal(5,5),\n",
    "Very_coarse_sand_1_to_2mm decimal(5,5),\n",
    "Coarse_sand_half_to_1mm decimal(5,5),\n",
    "Medium_sand_quart_to_half_mm decimal(5,5),\n",
    "Fine_sand_125_to_250µm decimal(5,5),\n",
    "Very_fine_sand_62_to_125µm decimal(5,5),\n",
    "less_63µm_siltClay decimal(5,5),\n",
    "LOI_percentage_450degrees decimal(5,5),\n",
    "folk_Classification_1954 nVarchar(max)\n",
    ");\"\"\"\n",
    "\n",
    "cur.execute(psaTableStmt)\n",
    "\n",
    "speciesCountTableStmt = \"\"\"\n",
    "USE Benthic CREATE TABLE speciesCount ( \n",
    "object_id int IDENTITY(1,1) not null PRIMARY KEY,\n",
    "sample_id nVarchar(15) not null,\n",
    "Count Int,\n",
    "AphiaID Int,\n",
    "Species nVArchar(200)\n",
    ");\"\"\"\n",
    "\n",
    "cur.execute(speciesCountTableStmt)\n",
    "\n",
    "referenceCollTableStmt = \"\"\"\n",
    "USE Benthic CREATE TABLE referenceCollection ( \n",
    "AlphiaID Int NOT NULL PRIMARY KEY,\n",
    "SD_code nVarchar(200),\n",
    "Phylum nVarchar(200),\n",
    "Class nVarchar(200),\n",
    "Order_Given nVarchar(200),\n",
    "Family nVarchar(200),\n",
    "Genus nVarchar(200),\n",
    "Species nVarchar(200),\n",
    "Sampling_Location nVarchar(200),\n",
    "Date_collected datetime,\n",
    "Picture nVarchar(200),\n",
    "link_to_worms nVarchar(200)\n",
    ");\"\"\"\n",
    "\n",
    "cur.execute(referenceCollTableStmt)\n",
    "\n",
    "iqiSampleStmt = \"\"\"\n",
    "USE Benthic CREATE TABLE iqiSampleResult ( \n",
    "sample_id nVarchar(15) not null primary key,\n",
    "waterbody_code nVarchar(20),\n",
    "IQI_score decimal(5,5),\n",
    "IQI_Status nVarchar(200),\n",
    "Year Int\n",
    ");\"\"\"\n",
    "\n",
    "cur.execute(iqiSampleStmt)\n",
    "\n",
    "iqiWaterbodyStmt = \"\"\"\n",
    "USE Benthic CREATE TABLE iqiWaterbodyResult ( \n",
    "sample_id nVarchar(15) not null primary key,\n",
    "waterbody_code nVarchar(20),\n",
    "waterbody_name nVarchar(200),\n",
    "Year Int,\n",
    "IQI_score decimal(5,5),\n",
    "IQI_Status nVarchar(200),\n",
    "Number_of_samples Int,\n",
    "Probability_High decimal(5,5),\n",
    "Probability_Good decimal(5,5),\n",
    "Probability_moderate decimal(5,5),\n",
    "Probability_poor decimal(5,5),\n",
    "Probability_bad decimal(5,5)\n",
    ");\"\"\"\n",
    "\n",
    "cur.execute(iqiWaterbodyStmt)\n",
    "\n",
    "# foreign keys can be set here now or later"
   ]
  },
  {
   "cell_type": "markdown",
   "metadata": {},
   "source": [
    "If the code runs correctly, a memory position should be declared and you should be able to view the table(s) in your SQL client app.\n",
    "\n",
    "If there is an error, don't panic, it's likely a connection issue - try again.\n",
    "If errors persist, consult a member of Data Management."
   ]
  },
  {
   "cell_type": "markdown",
   "metadata": {},
   "source": [
    "[Index](Index.ipynb) | [Create Database](BenthicDatabase-CreateDB.ipynb) | [Update Data](BenthicDatabase-UpdateData.ipynb)"
   ]
  }
 ],
 "metadata": {
  "kernelspec": {
   "display_name": "Python 3",
   "language": "python",
   "name": "python3"
  },
  "language_info": {
   "codemirror_mode": {
    "name": "ipython",
    "version": 3
   },
   "file_extension": ".py",
   "mimetype": "text/x-python",
   "name": "python",
   "nbconvert_exporter": "python",
   "pygments_lexer": "ipython3",
   "version": "3.6.5"
  }
 },
 "nbformat": 4,
 "nbformat_minor": 2
}
