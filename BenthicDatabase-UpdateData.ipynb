{
 "cells": [
  {
   "cell_type": "markdown",
   "metadata": {},
   "source": [
    "<img align=\"left\" style=\"padding-right:10px;\" width=\"250\" src=\"img/Marine_logo.jpg\"></br><h2><center>Benthic Update Data</center></h2>"
   ]
  },
  {
   "cell_type": "markdown",
   "metadata": {},
   "source": [
    "# Jupyter Notebook for Updating Database Tables\n",
    "\n",
    "## Insert data into SQL database using Pandas\n",
    "\n",
    "- Taking the individual excel template for each of the core data types, this script using the Pandas python library to convert that Excel data into a data frame.\n",
    "- That data frame is then reshaped and adapted to comply with the schema set out in SQL server"
   ]
  },
  {
   "cell_type": "markdown",
   "metadata": {},
   "source": [
    "## Notes\n",
    "- Currently set to interact with server database held on local host with files held locally.\n",
    "- Only the \"file\" and \"server\" variables need to ever be changed. \n",
    "- Below code will be cleaned-up and centralised on to a server hub where anyone with the appropriate permissions can run it."
   ]
  },
  {
   "cell_type": "markdown",
   "metadata": {},
   "source": [
    "## Establish connection to Database Server\n",
    "Import all necessary modules which are used to interact with the different data sources and also used to convert data to work with the end Database server.\n",
    "The majority of these packages are included in the standard **Pandas** implementation.\n",
    "Packages not included in this will be reviewed and removed as alternatives are compliance tested."
   ]
  },
  {
   "cell_type": "code",
   "execution_count": null,
   "metadata": {},
   "outputs": [],
   "source": [
    "import pyodbc\n",
    "import pandas as pd\n",
    "from pandas import ExcelWriter\n",
    "from pandas import ExcelFile\n",
    "import xlrd\n",
    "import sqlalchemy\n",
    "from sqlalchemy import create_engine\n",
    "import urllib.parse\n",
    "\n",
    "server = r'miags02.marine.ie'\n",
    "# wherever the database is going to be eg.'localhost\\sqlexpress'\n",
    "driver = '{SQL Server}'\n",
    "# Driver & default port used to connect to the database\n",
    "port = '1433'\n"
   ]
  },
  {
   "cell_type": "markdown",
   "metadata": {},
   "source": [
    "Once the connection to the data source has been established and data frame created, the data itself can be manipulated however you want:\n",
    "- In the below snippet, the data stored in the frame is renamed and reorganised to comply with the formatting of the created SQL database.\n",
    "- Variables are created for items in DB but not in the dataframe.\n",
    "- Superfluous columns are dropped from the data frame, but doing that here **never** affects the source data."
   ]
  },
  {
   "cell_type": "markdown",
   "metadata": {},
   "source": [
    "## Files\n",
    "Remember to change what file is equal to.\n",
    "    - Set it to your local machine or wherever the data you want is stored."
   ]
  },
  {
   "cell_type": "markdown",
   "metadata": {},
   "source": [
    "## Attributes"
   ]
  },
  {
   "cell_type": "code",
   "execution_count": null,
   "metadata": {},
   "outputs": [],
   "source": [
    "# here you set your URL/path for attribute table excel data\n",
    "file = r'\\Users\\aconway\\Documents\\Benthic\\Template.xlsx'\n",
    "\n",
    "df = pd.read_excel(file, sheet_name='attributes')\n",
    "\n",
    "print(\"Column headings:\")\n",
    "print(df.columns)\n",
    "\n",
    "print(df.dtypes)\n"
   ]
  },
  {
   "cell_type": "markdown",
   "metadata": {},
   "source": [
    "With the data frame cajoled into the required format, the SQL database is reconnected to and the data is inserted in the required table.\n",
    "- Note that the data types can be adjusted here if necessary.\n",
    "- Only the name of the table *has* to be changed as you go to a different table in the same database."
   ]
  },
  {
   "cell_type": "code",
   "execution_count": null,
   "metadata": {},
   "outputs": [],
   "source": [
    "# re-establish link to DB location\n",
    "dbName = 'Benthic'\n",
    "params = urllib.parse.quote('Trusted_Connection=yes;DRIVER=' + driver +\n",
    "                            ';SERVER=' + server + ';DATABASE=' + dbName + ';')\n",
    "engine = create_engine(\"mssql+pyodbc:///?odbc_connect=%s\" % params)\n",
    "\n",
    "# write the DataFrame to a table in the sql DB\n",
    "df.to_sql(\"attribute\", engine, schema=\"dbo\", if_exists=\"append\", index=False, chunksize=100)\n",
    "\n",
    "print(df.dtypes)"
   ]
  },
  {
   "cell_type": "markdown",
   "metadata": {},
   "source": [
    "The same process can then be undertaken to populate the other tables in the database with different data sources.\n",
    "- Note that minor changes may be required to the data source and types as necessary.\n",
    "- In this below implementation, the entire script is run at once."
   ]
  },
  {
   "cell_type": "markdown",
   "metadata": {},
   "source": [
    "## Species Count"
   ]
  },
  {
   "cell_type": "markdown",
   "metadata": {},
   "source": [
    "To rearrange the content of the original species data file so it can be easily viewed and ingested into the database, click [here](Benthic excel sheet R.IPYNB).\n",
    "\n",
    "**Note**: You *must* have the R Kernel installed to run this linked notebook.\n",
    "\n",
    "Follow the instructions [here](https://medium.com/@kyleake/how-to-install-r-in-jupyter-with-irkernel-in-3-steps-917519326e41) if you don't have it installed."
   ]
  },
  {
   "cell_type": "code",
   "execution_count": null,
   "metadata": {},
   "outputs": [],
   "source": [
    "# here you set your URL/path for attribute table excel data\n",
    "file = r'\\Users\\aconway\\Documents\\Benthic\\Template.xlsx'\n",
    "\n",
    "dfAtt = pd.read_excel(file, sheet_name='species')\n",
    "\n",
    "print(\"Column headings:\")\n",
    "print(dfAtt.columns)\n",
    "print(dfAtt.head(n=5))\n",
    "print(dfAtt.dtypes)\n",
    "\n",
    "# establish connection to DB location\n",
    "dbName = 'Benthic'\n",
    "params = urllib.parse.quote('Trusted_Connection=yes;DRIVER=' + driver +\n",
    "                            ';SERVER=' + server + ';DATABASE=' + dbName + ';')\n",
    "engine = create_engine(\"mssql+pyodbc:///?odbc_connect=%s\" % params)\n",
    "\n",
    "# write the DataFrame to a table in the sql DB\n",
    "dfAtt.to_sql(\"speciesCount\", engine, schema=\"dbo\", if_exists=\"append\", index=False, chunksize=100)"
   ]
  },
  {
   "cell_type": "markdown",
   "metadata": {},
   "source": [
    "Errors can occur at insertion but generally these are down to cast errors and SQL being unable to reconcile a letter to a number type.\n",
    "If you have an error, check your data, make sure there's nothing crazy there and rerun."
   ]
  },
  {
   "cell_type": "markdown",
   "metadata": {},
   "source": [
    "## IQI SRT"
   ]
  },
  {
   "cell_type": "code",
   "execution_count": null,
   "metadata": {},
   "outputs": [],
   "source": [
    "# here you set your URL/path for attribute table excel data\n",
    "file = r'\\Users\\aconway\\Documents\\Benthic\\Template.xlsx'\n",
    "\n",
    "df = pd.read_excel(file, sheet_name='iqiSampleResult')\n",
    "\n",
    "print(\"Column headings:\")\n",
    "print(df.columns)\n",
    "print(df.head(n=5))\n",
    "print(df.dtypes)\n",
    "\n",
    "# establish connection to DB location\n",
    "dbName = 'Benthic'\n",
    "params = urllib.parse.quote('Trusted_Connection=yes;DRIVER=' + driver +\n",
    "                            ';SERVER=' + server + ';DATABASE=' + dbName + ';')\n",
    "engine = create_engine(\"mssql+pyodbc:///?odbc_connect=%s\" % params)\n",
    "\n",
    "# write the DataFrame to a table in the sql DB\n",
    "df.to_sql(\"iqiSampleResult\", engine, schema=\"dbo\", if_exists=\"append\", index=False, chunksize=10)"
   ]
  },
  {
   "cell_type": "markdown",
   "metadata": {},
   "source": [
    "## IQI Waterbody RT"
   ]
  },
  {
   "cell_type": "code",
   "execution_count": null,
   "metadata": {},
   "outputs": [],
   "source": [
    "# here you set your URL/path for attribute table excel data\n",
    "file = r'\\Users\\aconway\\Documents\\Benthic\\Template.xlsx'\n",
    "\n",
    "df = pd.read_excel(file, sheet_name='iqiWaterBodyResult')\n",
    "\n",
    "print(\"Column headings:\")\n",
    "print(df.columns)\n",
    "print(df.head(n=5))\n",
    "print(df.dtypes)\n",
    "\n",
    "# establish connection to DB location\n",
    "dbName = 'Benthic'\n",
    "params = urllib.parse.quote('Trusted_Connection=yes;DRIVER=' + driver +\n",
    "                            ';SERVER=' + server + ';DATABASE=' + dbName + ';')\n",
    "engine = create_engine(\"mssql+pyodbc:///?odbc_connect=%s\" % params)\n",
    "\n",
    "# write the DataFrame to a table in the sql DB\n",
    "df.to_sql(\"iqiWaterbodyResult\", engine, schema=\"dbo\",\n",
    "          if_exists=\"append\", index=False, chunksize=100)"
   ]
  },
  {
   "cell_type": "markdown",
   "metadata": {},
   "source": [
    "## PSA"
   ]
  },
  {
   "cell_type": "code",
   "execution_count": null,
   "metadata": {},
   "outputs": [],
   "source": [
    "# here you set your URL/path for attribute table excel data\n",
    "file = r'\\Users\\aconway\\Documents\\Benthic\\Template.xlsx'\n",
    "\n",
    "df = pd.read_excel(file, sheet_name='psa')\n",
    "\n",
    "print(\"Column headings:\")\n",
    "print(df.columns)\n",
    "print(df.head(n=5))\n",
    "\n",
    "# establish connection to DB location\n",
    "dbName = 'Benthic'\n",
    "params = urllib.parse.quote('Trusted_Connection=yes;DRIVER=' + driver +\n",
    "                            ';SERVER=' + server + ';DATABASE=' + dbName + ';')\n",
    "engine = create_engine(\"mssql+pyodbc:///?odbc_connect=%s\" % params)\n",
    "\n",
    "# write the DataFrame to a table in the sql DB, changing datatypes as necessary\n",
    "df.to_sql(\"psa\", engine, schema=\"dbo\",\n",
    "          if_exists=\"append\", index=False, chunksize=10,\n",
    "          dtype={'sample_id': sqlalchemy.types.NVARCHAR(length=15),\n",
    "                 'Medium_Gravel_greater_8mm': sqlalchemy.types.Float(precision=5, scale=5, asdecimal=True),\n",
    "                 'Fine_Gravel_4_to_8mm': sqlalchemy.types.Float(precision=5, scale=5, asdecimal=True),\n",
    "                 'Very_fine_Gravel_2_to_4mm': sqlalchemy.types.Float(precision=5, scale=5, asdecimal=True),\n",
    "                 'Very_coarse_sand_1_to_2mm': sqlalchemy.types.Float(precision=5, scale=5, asdecimal=True),\n",
    "                 'Coarse_sand_half_to_1mm': sqlalchemy.types.Float(precision=5, scale=5, asdecimal=True),\n",
    "                 'Medium_sand_quart_to_half_mm': sqlalchemy.types.Float(precision=5, scale=5, asdecimal=True),\n",
    "                 'Fine_sand_125_to_250microm': sqlalchemy.types.Float(precision=5, scale=5, asdecimal=True),\n",
    "                 'Very_fine_sand_62_to_125microm': sqlalchemy.types.Float(precision=5, scale=5, asdecimal=True),\n",
    "                 'less_63microm_siltClay': sqlalchemy.types.Float(precision=5, scale=5, asdecimal=True),\n",
    "                 'LOI_percentage_450degrees': sqlalchemy.types.Float(precision=5, scale=5, asdecimal=True),\n",
    "                 'folk_Classification_1954': sqlalchemy.types.NVARCHAR(length=254)})\n",
    "print(df.dtypes)"
   ]
  },
  {
   "cell_type": "markdown",
   "metadata": {},
   "source": [
    "## Ref C"
   ]
  },
  {
   "cell_type": "code",
   "execution_count": null,
   "metadata": {},
   "outputs": [],
   "source": [
    "# here you set your URL/path for attribute table excel data\n",
    "file = r'\\Users\\aconway\\Documents\\Benthic\\Template.xlsx'\n",
    "\n",
    "dfAtt = pd.read_excel(file, sheet_name='referenceCollection')\n",
    "\n",
    "print(\"Column headings:\")\n",
    "print(dfAtt.columns)\n",
    "print(dfAtt.head(n=5))\n",
    "print(dfAtt.dtypes)\n",
    "\n",
    "# establish connection to DB location\n",
    "dbName = 'Benthic'\n",
    "params = urllib.parse.quote('Trusted_Connection=yes;DRIVER=' + driver +\n",
    "                            ';SERVER=' + server + ';DATABASE=' + dbName + ';')\n",
    "engine = create_engine(\"mssql+pyodbc:///?odbc_connect=%s\" % params)\n",
    "\n",
    "# write the DataFrame to a table in the sql DB\n",
    "dfAtt.to_sql(\"referenceCollection\", engine, schema=\"dbo\",\n",
    "             if_exists=\"append\", index=False, chunksize=100)"
   ]
  },
  {
   "cell_type": "markdown",
   "metadata": {},
   "source": [
    "[Index](Index.ipynb) | [Create Tables](BenthicDatabase-CreateTables.ipynb) | [Create Database](BenthicDatabase-CreateDB.ipynb)"
   ]
  }
 ],
 "metadata": {
  "kernelspec": {
   "display_name": "Python 3",
   "language": "python",
   "name": "python3"
  },
  "language_info": {
   "codemirror_mode": {
    "name": "ipython",
    "version": 3
   },
   "file_extension": ".py",
   "mimetype": "text/x-python",
   "name": "python",
   "nbconvert_exporter": "python",
   "pygments_lexer": "ipython3",
   "version": "3.7.3"
  }
 },
 "nbformat": 4,
 "nbformat_minor": 2
}
