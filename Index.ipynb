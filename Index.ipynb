{
 "cells": [
  {
   "cell_type": "markdown",
   "metadata": {},
   "source": [
    "<!--QC_INFORMATION-->\n",
    "<img align=\"left\" style=\"padding-right:10px;\" width=\"250\" src=\"Marine_logo.jpg\"></br><h2><center>Benthic Table of Contents</center></h2>"
   ]
  },
  {
   "cell_type": "markdown",
   "metadata": {},
   "source": [
    "*Version 1.1*\n",
    "<img align=\"center\" style=\"padding-right:10px;\" width=\"600\" src=\"ce.jpg\"></br>\n",
    "<!-- ![Celtic Explorer](img/ce.jpg) -->"
   ]
  },
  {
   "cell_type": "markdown",
   "metadata": {},
   "source": [
    "This handbook provides a detailed view of how data related to Benthic operations can be handled. This includes the creation of SQL database for storage, analysis and distribution, the additional creation of SQL tables within those databases and the updating of data within those tables."
   ]
  },
  {
   "cell_type": "markdown",
   "metadata": {},
   "source": [
    "## Table of Contents\n",
    "\n",
    "### [Preface](Benthic_Preface.ipynb)\n",
    "\n",
    "### Database Administration\n",
    "- [Create Database](BenthicDatabase-CreateDB.ipynb)\n",
    "- [Create Tables](BenthicDatabase-CreateTables.ipynb)\n",
    "- [Update Data](BenthicDatabase-UpdateData.ipynb)\n"
   ]
  }
 ],
 "metadata": {
  "anaconda-cloud": {},
  "kernelspec": {
   "display_name": "Python 3",
   "language": "python",
   "name": "python3"
  },
  "language_info": {
   "codemirror_mode": {
    "name": "ipython",
    "version": 3
   },
   "file_extension": ".py",
   "mimetype": "text/x-python",
   "name": "python",
   "nbconvert_exporter": "python",
   "pygments_lexer": "ipython3",
   "version": "3.6.5"
  }
 },
 "nbformat": 4,
 "nbformat_minor": 1
}
